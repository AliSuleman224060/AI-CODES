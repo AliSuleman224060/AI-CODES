{
 "cells": [
  {
   "cell_type": "code",
   "execution_count": 15,
   "id": "3bfd1946",
   "metadata": {},
   "outputs": [
    {
     "data": {
      "text/plain": [
       "array(['A', 'B', {\n",
       "                     \"class\" : \"Distribution\",\n",
       "                     \"dtype\" : \"str\",\n",
       "                     \"name\" : \"DiscreteDistribution\",\n",
       "                     \"parameters\" : [\n",
       "                         {\n",
       "                             \"A\" : 0.0,\n",
       "                             \"B\" : 0.0,\n",
       "                             \"C\" : 1.0\n",
       "                         }\n",
       "                     ],\n",
       "                     \"frozen\" : false\n",
       "                 }                                   ], dtype=object)"
      ]
     },
     "execution_count": 15,
     "metadata": {},
     "output_type": "execute_result"
    }
   ],
   "source": [
    "import math\n",
    "from pomegranate import *\n",
    "guest = DiscreteDistribution({\"A\":1/3,\"B\":1/3,\"C\":1/3})\n",
    "prize = DiscreteDistribution({\"A\":1/3,\"B\":1/3,\"C\":1/3})\n",
    "monty =ConditionalProbabilityTable( [[ 'A',\n",
    "'A', 'A', 0.0 ],\n",
    "[ 'A', 'A', 'B', 0.5 ],\n",
    "[ 'A', 'A', 'C', 0.5 ],\n",
    "[ 'A', 'B', 'A', 0.0 ],\n",
    "[ 'A', 'B', 'B', 0.0 ],\n",
    "[ 'A', 'B', 'C', 1.0 ],\n",
    "[ 'A', 'C', 'A', 0.0 ],\n",
    "[ 'A', 'C', 'B', 1.0 ],\n",
    "[ 'A', 'C', 'C', 0.0 ],\n",
    "[ 'B', 'A', 'A', 0.0 ],\n",
    "[ 'B', 'A', 'B', 0.0 ],\n",
    "[ 'B', 'A', 'C', 1.0 ],\n",
    "[ 'B', 'B', 'A', 0.5 ],\n",
    "[ 'B', 'B', 'B', 0.0 ],\n",
    "[ 'B', 'B', 'C', 0.5 ],\n",
    "[ 'B', 'C', 'A', 1.0 ],\n",
    "[ 'B', 'C', 'B', 0.0 ],\n",
    "[ 'B', 'C', 'C', 0.0 ],\n",
    "[ 'C', 'A', 'A', 0.0 ],\n",
    "[ 'C', 'A', 'B', 1.0 ],\n",
    "[ 'C', 'A', 'C', 0.0 ],\n",
    "[ 'C', 'B', 'A', 1.0 ],\n",
    "[ 'C', 'B', 'B', 0.0 ],\n",
    "[ 'C', 'B', 'C', 0.0 ],\n",
    "[ 'C', 'C', 'A', 0.5 ],\n",
    "[ 'C', 'C', 'B', 0.5 ],\n",
    "[ 'C', 'C', 'C', 0.0 ]], [guest, prize] )\n",
    "\n",
    "d1 = State(guest,name=\"guest\")\n",
    "d2 = State(prize,name=\"prize\")\n",
    "d3 = State(monty,name=\"monty\")\n",
    "network = BayesianNetwork(\"Monty Hall Problem\")\n",
    "network.add_states(d1,d2,d3)\n",
    "network.add_edge(d1,d3)\n",
    "network.add_edge(d2,d3)\n",
    "network.bake()\n",
    "network.predict_proba({'guest':'A','prize':'B'})"
   ]
  },
  {
   "cell_type": "code",
   "execution_count": 80,
   "id": "a79de5ee",
   "metadata": {},
   "outputs": [
    {
     "name": "stdout",
     "output_type": "stream",
     "text": [
      "Probability of Alarm given Burglary: 0.0015780000000007283\n"
     ]
    }
   ],
   "source": [
    "from pomegranate import *\n",
    "burglary = DiscreteDistribution({'True': 0.001, 'False': 0.999})\n",
    "earthquake = DiscreteDistribution({'True': 0.002, 'False': 0.998})\n",
    "alarm = ConditionalProbabilityTable(\n",
    "[['True','True','True',0.95],\n",
    " ['True', 'True', 'False', 0.05],\n",
    "['True', 'False', 'True', 0.94],\n",
    "['True', 'False', 'False', 0.06],\n",
    "['False', 'True', 'True', 0.29],\n",
    "['False', 'True', 'False', 0.71],\n",
    "['False', 'False', 'True', 0.001],\n",
    "['False', 'False', 'False', 0.999]],\n",
    "[burglary, earthquake]\n",
    ")\n",
    "david_calls = ConditionalProbabilityTable(\n",
    "[['True', 'True', 0.9],\n",
    "['True', 'False', 0.1],\n",
    "['False', 'True', 0.05],\n",
    "['False', 'False', 0.95]],\n",
    "[alarm]\n",
    ")\n",
    "sophia_calls = ConditionalProbabilityTable(\n",
    "[['True', 'True', 0.7],\n",
    "['True', 'False', 0.3],\n",
    "['False', 'True', 0.01],\n",
    "['False', 'False', 0.99]],\n",
    "[alarm]\n",
    ")\n",
    "# Define the nodes\n",
    "s1 = State(burglary, name=\"burglary\")\n",
    "s2 = State(earthquake, name=\"earthquake\")\n",
    "s3 = State(alarm, name=\"alarm\")\n",
    "s4 = State(david_calls, name=\"david_calls\")\n",
    "s5 = State(sophia_calls, name=\"sophia_calls\")\n",
    "# Create the Bayesian network\n",
    "network = BayesianNetwork(\"Burglary Alarm\")\n",
    "network.add_states(s1, s2, s3, s4, s5)\n",
    "network.add_edge(s1, s3)\n",
    "network.add_edge(s2, s3)\n",
    "network.add_edge(s3, s4)\n",
    "network.add_edge(s3, s5)\n",
    "network.bake()\n",
    "# Calculate the probability of the alarm given burglary\n",
    "prob_alarm_given_burglary = network.predict_proba({'burglary': 'False'})[2].parameters[0]['True']\n",
    "print(\"Probability of Alarm given Burglary:\", prob_alarm_given_burglary)"
   ]
  },
  {
   "cell_type": "code",
   "execution_count": 81,
   "id": "c7b2478d",
   "metadata": {},
   "outputs": [
    {
     "name": "stdout",
     "output_type": "stream",
     "text": [
      "+------------+--------------+\n",
      "| Alarm      |   phi(Alarm) |\n",
      "+============+==============+\n",
      "| Alarm(Yes) |       0.9400 |\n",
      "+------------+--------------+\n",
      "| Alarm(No)  |       0.0600 |\n",
      "+------------+--------------+\n"
     ]
    }
   ],
   "source": [
    "from pgmpy.models import BayesianNetwork\n",
    "from pgmpy.inference import VariableElimination\n",
    "from pgmpy.factors.discrete import TabularCPD\n",
    "\n",
    "model = BayesianNetwork([('Earthquake','Alarm'),('Burglary','Alarm')\n",
    "                        ,('Alarm','David'),('Alarm','Sophia')])\n",
    "\n",
    "earthquake_cpd = TabularCPD(variable='Earthquake',variable_card=2,\n",
    "                           values = [[0.002],[0.998]],state_names={'Earthquake':['True','False']})\n",
    "\n",
    "burglary_cpd = TabularCPD(variable = 'Burglary',variable_card = 2,\n",
    "                         values = [[0.001],[0.999]],state_names={'Burglary':['True','False']})\n",
    "\n",
    "alarm_cpd = TabularCPD(variable='Alarm',variable_card = 2,\n",
    "                      values=[[0.95,0.94,0.29,0.001],\n",
    "                             [0.05,0.06,0.71,0.999]],\n",
    "                      evidence = ['Burglary','Earthquake'],\n",
    "                      evidence_card=[2,2],\n",
    "                      state_names={\n",
    "                          'Alarm':['Yes','No'],\n",
    "                          'Burglary':['True','False'],\n",
    "                          'Earthquake':['True','False']\n",
    "                      })\n",
    "\n",
    "david_cpd = TabularCPD(variable='David',\n",
    "                      variable_card = 2,\n",
    "                      values = [[0.9,0.05],\n",
    "                                [0.1,0.95]],\n",
    "                       evidence=['Alarm'],\n",
    "                      evidence_card = [2],\n",
    "                      state_names = {\n",
    "                          'David':['Yes','No'],\n",
    "                          'Alarm':['Yes','No']\n",
    "                      })\n",
    "\n",
    "\n",
    "\n",
    "sophia_cpd = TabularCPD(variable='Sophia',\n",
    "                       variable_card = 2,\n",
    "                       values = [[0.7,0.01],[0.3,0.99]],\n",
    "                       evidence = ['Alarm'],\n",
    "                       evidence_card=[2],\n",
    "                       state_names = {\n",
    "                           'Sophia':['Yes','No'],\n",
    "                           'Alarm':['Yes','No']\n",
    "                       })\n",
    "model.add_cpds(earthquake_cpd,burglary_cpd,alarm_cpd,david_cpd,sophia_cpd)\n",
    "assert model.check_model()\n",
    "inference = VariableElimination(model)\n",
    "\n",
    "result = inference.query(variables=['Alarm'],evidence = {'Burglary':'True'})\n",
    "print(result)"
   ]
  },
  {
   "cell_type": "code",
   "execution_count": 82,
   "id": "c8eb58fb",
   "metadata": {},
   "outputs": [
    {
     "name": "stdout",
     "output_type": "stream",
     "text": [
      "Prob of poor performance,given medium study time and tutor:  0.2\n",
      "+----------------------+--------------------+\n",
      "| Performance          |   phi(Performance) |\n",
      "+======================+====================+\n",
      "| Performance(Poor)    |             0.2000 |\n",
      "+----------------------+--------------------+\n",
      "| Performance(Average) |             0.5000 |\n",
      "+----------------------+--------------------+\n",
      "| Performance(Good)    |             0.3000 |\n",
      "+----------------------+--------------------+\n",
      "Prob of study time and tutor ,given good performance:  +-------------------+---------------+---------------------------+\n",
      "| StudyTime         | Tutoring      |   phi(StudyTime,Tutoring) |\n",
      "+===================+===============+===========================+\n",
      "| StudyTime(Low)    | Tutoring(Yes) |                    0.1356 |\n",
      "+-------------------+---------------+---------------------------+\n",
      "| StudyTime(Low)    | Tutoring(No)  |                    0.0291 |\n",
      "+-------------------+---------------+---------------------------+\n",
      "| StudyTime(Medium) | Tutoring(Yes) |                    0.1525 |\n",
      "+-------------------+---------------+---------------------------+\n",
      "| StudyTime(Medium) | Tutoring(No)  |                    0.0654 |\n",
      "+-------------------+---------------+---------------------------+\n",
      "| StudyTime(High)   | Tutoring(Yes) |                    0.5085 |\n",
      "+-------------------+---------------+---------------------------+\n",
      "| StudyTime(High)   | Tutoring(No)  |                    0.1090 |\n",
      "+-------------------+---------------+---------------------------+\n",
      "Prob of study time and tutoring, given average performance:  +-------------------+---------------+---------------------------+\n",
      "| StudyTime         | Tutoring      |   phi(StudyTime,Tutoring) |\n",
      "+===================+===============+===========================+\n",
      "| StudyTime(Low)    | Tutoring(Yes) |                    0.1148 |\n",
      "+-------------------+---------------+---------------------------+\n",
      "| StudyTime(Low)    | Tutoring(No)  |                    0.0328 |\n",
      "+-------------------+---------------+---------------------------+\n",
      "| StudyTime(Medium) | Tutoring(Yes) |                    0.2869 |\n",
      "+-------------------+---------------+---------------------------+\n",
      "| StudyTime(Medium) | Tutoring(No)  |                    0.0738 |\n",
      "+-------------------+---------------+---------------------------+\n",
      "| StudyTime(High)   | Tutoring(Yes) |                    0.2869 |\n",
      "+-------------------+---------------+---------------------------+\n",
      "| StudyTime(High)   | Tutoring(No)  |                    0.2049 |\n",
      "+-------------------+---------------+---------------------------+\n"
     ]
    }
   ],
   "source": [
    "from pgmpy.models import *\n",
    "from pgmpy.factors.discrete import TabularCPD\n",
    "from pgmpy.inference import VariableElimination\n",
    "model = BayesianNetwork([(\"StudyTime\",\"Performance\"),\n",
    "                         (\"Tutoring\",\"Performance\")])\n",
    "cpd_StudyTime = TabularCPD(variable=\"StudyTime\",variable_card=3,\n",
    "                           values=[[0.2],[0.3],[0.5]],state_names={\"StudyTime\":[\"Low\",\"Medium\",\"High\"]})\n",
    "cpd_Tutoring = TabularCPD(variable=\"Tutoring\",variable_card=2,\n",
    "                           values=[[0.7],[0.3]],state_names={\"Tutoring\":[\"Yes\",\"No\"]})\n",
    "cpd_performance = TabularCPD(variable='Performance', variable_card=3,\n",
    "                              values=[[0.3,0.6,0.2,0.4,0.1,0.2],\n",
    "                                      [0.3,0.2,0.5,0.3,0.3,0.5],\n",
    "                                      [0.4,0.2,0.3,0.3,0.6,0.3]],\n",
    "                              evidence=['StudyTime', 'Tutoring'], evidence_card=[3, 2],\n",
    "                              state_names={\"Performance\":[\"Poor\",\"Average\",\"Good\"],\n",
    "                                  \"StudyTime\":[\"Low\",\"Medium\",\"High\"],\"Tutoring\":[\"Yes\",\"No\"]})\n",
    "\n",
    "model.add_cpds(cpd_StudyTime,cpd_Tutoring,cpd_performance)\n",
    "infer = VariableElimination(model)\n",
    "res_1 = infer.query(variables=[\"Performance\"],evidence={'StudyTime':\"Medium\",\"Tutoring\" :\"Yes\"})\n",
    "res_2 = infer.query(variables=['StudyTime',\"Tutoring\"],evidence={'Performance':'Good'})\n",
    "res_3 = infer.query(variables=['StudyTime', 'Tutoring'], evidence={'Performance': \"Average\"})\n",
    "print(\"Prob of poor performance,given medium study time and tutor: \",res_1.values[0])\n",
    "print(res_1)\n",
    "print(\"Prob of study time and tutor ,given good performance: \",res_2)\n",
    "print(\"Prob of study time and tutoring, given average performance: \",res_3)\n",
    "\n",
    "\n"
   ]
  },
  {
   "cell_type": "markdown",
   "id": "22aab22a",
   "metadata": {},
   "source": [
    "# HMM "
   ]
  },
  {
   "cell_type": "markdown",
   "id": "7f09a9af",
   "metadata": {},
   "source": [
    "Using a Hidden Markov Model, diagnose whether a person is healthy or sick based on the observation of\n",
    "cough or no cough. The model has two possible states: healthy and sick, and two possible observations: cough\n",
    "and no cough."
   ]
  },
  {
   "cell_type": "code",
   "execution_count": 20,
   "id": "c0bfd60c",
   "metadata": {},
   "outputs": [
    {
     "name": "stdout",
     "output_type": "stream",
     "text": [
      "Healthy Healthy Sick Sick "
     ]
    }
   ],
   "source": [
    "from hmmlearn import hmm\n",
    "import seaborn as sns\n",
    "import matplotlib.pyplot as plt\n",
    "import numpy as np\n",
    "\n",
    "states = ['Healthy','Sick']\n",
    "n_states = 2\n",
    "observations = ['No Cough','Cough']\n",
    "state_prob = np.array([0.8,0.2])\n",
    "transition_prob = np.array([[0.6,0.4],[0.4,0.6]])\n",
    "emission_prob = np.array([[0.5,0.5],[0.8,0.2]])\n",
    "model = hmm.CategoricalHMM(2)\n",
    "model.startprob_ = state_prob\n",
    "model.transmat_ = transition_prob\n",
    "model.emissionprob_ = emission_prob\n",
    "observations_sequence = np.array([0,1,0,0]).reshape(-1,1)\n",
    "hidden_states = model.predict(observations_sequence)\n",
    "for i in hidden_states:\n",
    "    print(states[i],end=' ')"
   ]
  },
  {
   "cell_type": "code",
   "execution_count": 26,
   "id": "33b6696a",
   "metadata": {},
   "outputs": [
    {
     "name": "stdout",
     "output_type": "stream",
     "text": [
      "Sick Sick Healthy "
     ]
    }
   ],
   "source": [
    "states = ['Healthy','Sick','Recovering']\n",
    "n_states = 3\n",
    "observations = ['No Cough','Mild Cough','Severe Cough']\n",
    "state_prob = np.array([0.6,0.3,0.1])\n",
    "transition_prob = np.array([[0.7,0.2,0.1],\n",
    "                            [0.1,0.7,0.2],\n",
    "                            [0.5,0.1,0.4]])\n",
    "emission_prob = np.array([[0.8,0.15,0.05],\n",
    "                         [0.1,0.3,0.6],\n",
    "                         [0.3,0.6,0.1]])\n",
    "model = hmm.CategoricalHMM(3)\n",
    "model.startprob_ = state_prob\n",
    "model.transmat_ = transition_prob\n",
    "model.emissionprob_ = emission_prob\n",
    "observation_sequence = np.array([1,2,0]).reshape(-1,1)\n",
    "hidden_states = model.predict(observation_sequence)\n",
    "for i in hidden_states:\n",
    "    print(states[i],end=\" \")"
   ]
  },
  {
   "cell_type": "code",
   "execution_count": 83,
   "id": "50b6f4b5",
   "metadata": {},
   "outputs": [
    {
     "name": "stdout",
     "output_type": "stream",
     "text": [
      "Probability of using Plan 1 given that the product is defective: 0.158\n",
      "Probability of using Plan 2 given that the product is defective: 0.316\n",
      "Probability of using Plan 3 given that the product is defective: 0.526\n",
      "Plan 3 was most likely used since it has the highest probability\n"
     ]
    }
   ],
   "source": [
    "#Probability of Plans\n",
    "Plan1 = 0.3\n",
    "Plan2 = 0.2\n",
    "Plan3 = 0.5\n",
    "#Conditional Probs\n",
    "PD_Given_1 = 0.01\n",
    "PD_Given_2 = 0.03\n",
    "PD_Given_3 = 0.02\n",
    "Defective = (PD_Given_1*Plan1)+(PD_Given_2*Plan2)+(PD_Given_3*Plan3)\n",
    "\n",
    "#Using Bayes Rule to Calculate Probs\n",
    "P1_Given_D = (PD_Given_1*Plan1)/Defective\n",
    "P2_Given_D = (PD_Given_2*Plan2)/Defective\n",
    "P3_Given_D = (PD_Given_3*Plan3)/Defective\n",
    "\n",
    "P1_Given_D = np.round(P1_Given_D,3)\n",
    "P2_Given_D = np.round(P2_Given_D,3)\n",
    "P3_Given_D = np.round(P3_Given_D,3)\n",
    "print(\"Probability of using Plan 1 given that the product is defective:\",P1_Given_D)\n",
    "print(\"Probability of using Plan 2 given that the product is defective:\",P2_Given_D)\n",
    "print(\"Probability of using Plan 3 given that the product is defective:\",P3_Given_D)\n",
    "\n",
    "most_likely = max(P1_Given_D,P2_Given_D,P3_Given_D)\n",
    "if most_likely==P1_Given_D:\n",
    "    print(\"Plan 1 was most likely used since it has the highest probability\")\n",
    "elif most_likely==P2_Given_D:\n",
    "    print(\"Plan 2 was most likely used since it has the highest probability\")\n",
    "else:\n",
    "    print(\"Plan 3 was most likely used since it has the highest probability\")"
   ]
  },
  {
   "cell_type": "code",
   "execution_count": 27,
   "id": "4d6ad38a",
   "metadata": {},
   "outputs": [],
   "source": [
    "import pandas as pd\n",
    "import numpy as np\n",
    "from sklearn.datasets import load_iris\n",
    "from sklearn.model_selection import train_test_split\n",
    "from sklearn.linear_model import LinearRegression\n",
    "from sklearn.metrics import mean_absolute_error, accuracy_score, mean_squared_error"
   ]
  },
  {
   "cell_type": "code",
   "execution_count": 55,
   "id": "e92a3935",
   "metadata": {},
   "outputs": [
    {
     "name": "stdout",
     "output_type": "stream",
     "text": [
      "['sepal length (cm)', 'sepal width (cm)', 'petal length (cm)', 'petal width (cm)']\n"
     ]
    }
   ],
   "source": [
    "iris = load_iris()\n",
    "X = iris.data\n",
    "y = iris.target\n",
    "print(iris.feature_names)\n",
    "df = pd.DataFrame(X)\n",
    "df.columns = iris.feature_names"
   ]
  },
  {
   "cell_type": "code",
   "execution_count": 56,
   "id": "3123c3ae",
   "metadata": {},
   "outputs": [],
   "source": [
    "df['target'] = y"
   ]
  },
  {
   "cell_type": "code",
   "execution_count": 57,
   "id": "881f17e8",
   "metadata": {},
   "outputs": [
    {
     "data": {
      "text/html": [
       "<div>\n",
       "<style scoped>\n",
       "    .dataframe tbody tr th:only-of-type {\n",
       "        vertical-align: middle;\n",
       "    }\n",
       "\n",
       "    .dataframe tbody tr th {\n",
       "        vertical-align: top;\n",
       "    }\n",
       "\n",
       "    .dataframe thead th {\n",
       "        text-align: right;\n",
       "    }\n",
       "</style>\n",
       "<table border=\"1\" class=\"dataframe\">\n",
       "  <thead>\n",
       "    <tr style=\"text-align: right;\">\n",
       "      <th></th>\n",
       "      <th>sepal length (cm)</th>\n",
       "      <th>sepal width (cm)</th>\n",
       "      <th>petal length (cm)</th>\n",
       "      <th>petal width (cm)</th>\n",
       "      <th>target</th>\n",
       "    </tr>\n",
       "  </thead>\n",
       "  <tbody>\n",
       "    <tr>\n",
       "      <th>0</th>\n",
       "      <td>5.1</td>\n",
       "      <td>3.5</td>\n",
       "      <td>1.4</td>\n",
       "      <td>0.2</td>\n",
       "      <td>0</td>\n",
       "    </tr>\n",
       "    <tr>\n",
       "      <th>1</th>\n",
       "      <td>4.9</td>\n",
       "      <td>3.0</td>\n",
       "      <td>1.4</td>\n",
       "      <td>0.2</td>\n",
       "      <td>0</td>\n",
       "    </tr>\n",
       "    <tr>\n",
       "      <th>2</th>\n",
       "      <td>4.7</td>\n",
       "      <td>3.2</td>\n",
       "      <td>1.3</td>\n",
       "      <td>0.2</td>\n",
       "      <td>0</td>\n",
       "    </tr>\n",
       "    <tr>\n",
       "      <th>3</th>\n",
       "      <td>4.6</td>\n",
       "      <td>3.1</td>\n",
       "      <td>1.5</td>\n",
       "      <td>0.2</td>\n",
       "      <td>0</td>\n",
       "    </tr>\n",
       "    <tr>\n",
       "      <th>4</th>\n",
       "      <td>5.0</td>\n",
       "      <td>3.6</td>\n",
       "      <td>1.4</td>\n",
       "      <td>0.2</td>\n",
       "      <td>0</td>\n",
       "    </tr>\n",
       "    <tr>\n",
       "      <th>...</th>\n",
       "      <td>...</td>\n",
       "      <td>...</td>\n",
       "      <td>...</td>\n",
       "      <td>...</td>\n",
       "      <td>...</td>\n",
       "    </tr>\n",
       "    <tr>\n",
       "      <th>145</th>\n",
       "      <td>6.7</td>\n",
       "      <td>3.0</td>\n",
       "      <td>5.2</td>\n",
       "      <td>2.3</td>\n",
       "      <td>2</td>\n",
       "    </tr>\n",
       "    <tr>\n",
       "      <th>146</th>\n",
       "      <td>6.3</td>\n",
       "      <td>2.5</td>\n",
       "      <td>5.0</td>\n",
       "      <td>1.9</td>\n",
       "      <td>2</td>\n",
       "    </tr>\n",
       "    <tr>\n",
       "      <th>147</th>\n",
       "      <td>6.5</td>\n",
       "      <td>3.0</td>\n",
       "      <td>5.2</td>\n",
       "      <td>2.0</td>\n",
       "      <td>2</td>\n",
       "    </tr>\n",
       "    <tr>\n",
       "      <th>148</th>\n",
       "      <td>6.2</td>\n",
       "      <td>3.4</td>\n",
       "      <td>5.4</td>\n",
       "      <td>2.3</td>\n",
       "      <td>2</td>\n",
       "    </tr>\n",
       "    <tr>\n",
       "      <th>149</th>\n",
       "      <td>5.9</td>\n",
       "      <td>3.0</td>\n",
       "      <td>5.1</td>\n",
       "      <td>1.8</td>\n",
       "      <td>2</td>\n",
       "    </tr>\n",
       "  </tbody>\n",
       "</table>\n",
       "<p>150 rows × 5 columns</p>\n",
       "</div>"
      ],
      "text/plain": [
       "     sepal length (cm)  sepal width (cm)  petal length (cm)  petal width (cm)  \\\n",
       "0                  5.1               3.5                1.4               0.2   \n",
       "1                  4.9               3.0                1.4               0.2   \n",
       "2                  4.7               3.2                1.3               0.2   \n",
       "3                  4.6               3.1                1.5               0.2   \n",
       "4                  5.0               3.6                1.4               0.2   \n",
       "..                 ...               ...                ...               ...   \n",
       "145                6.7               3.0                5.2               2.3   \n",
       "146                6.3               2.5                5.0               1.9   \n",
       "147                6.5               3.0                5.2               2.0   \n",
       "148                6.2               3.4                5.4               2.3   \n",
       "149                5.9               3.0                5.1               1.8   \n",
       "\n",
       "     target  \n",
       "0         0  \n",
       "1         0  \n",
       "2         0  \n",
       "3         0  \n",
       "4         0  \n",
       "..      ...  \n",
       "145       2  \n",
       "146       2  \n",
       "147       2  \n",
       "148       2  \n",
       "149       2  \n",
       "\n",
       "[150 rows x 5 columns]"
      ]
     },
     "execution_count": 57,
     "metadata": {},
     "output_type": "execute_result"
    }
   ],
   "source": [
    "df"
   ]
  },
  {
   "cell_type": "code",
   "execution_count": 69,
   "id": "80315db5",
   "metadata": {},
   "outputs": [],
   "source": [
    "X_train, X_test, y_train, y_test = train_test_split(X,y,train_size=0.8,random_state=42) "
   ]
  },
  {
   "cell_type": "code",
   "execution_count": 70,
   "id": "134e65e2",
   "metadata": {},
   "outputs": [
    {
     "data": {
      "text/html": [
       "<style>#sk-container-id-2 {color: black;}#sk-container-id-2 pre{padding: 0;}#sk-container-id-2 div.sk-toggleable {background-color: white;}#sk-container-id-2 label.sk-toggleable__label {cursor: pointer;display: block;width: 100%;margin-bottom: 0;padding: 0.3em;box-sizing: border-box;text-align: center;}#sk-container-id-2 label.sk-toggleable__label-arrow:before {content: \"▸\";float: left;margin-right: 0.25em;color: #696969;}#sk-container-id-2 label.sk-toggleable__label-arrow:hover:before {color: black;}#sk-container-id-2 div.sk-estimator:hover label.sk-toggleable__label-arrow:before {color: black;}#sk-container-id-2 div.sk-toggleable__content {max-height: 0;max-width: 0;overflow: hidden;text-align: left;background-color: #f0f8ff;}#sk-container-id-2 div.sk-toggleable__content pre {margin: 0.2em;color: black;border-radius: 0.25em;background-color: #f0f8ff;}#sk-container-id-2 input.sk-toggleable__control:checked~div.sk-toggleable__content {max-height: 200px;max-width: 100%;overflow: auto;}#sk-container-id-2 input.sk-toggleable__control:checked~label.sk-toggleable__label-arrow:before {content: \"▾\";}#sk-container-id-2 div.sk-estimator input.sk-toggleable__control:checked~label.sk-toggleable__label {background-color: #d4ebff;}#sk-container-id-2 div.sk-label input.sk-toggleable__control:checked~label.sk-toggleable__label {background-color: #d4ebff;}#sk-container-id-2 input.sk-hidden--visually {border: 0;clip: rect(1px 1px 1px 1px);clip: rect(1px, 1px, 1px, 1px);height: 1px;margin: -1px;overflow: hidden;padding: 0;position: absolute;width: 1px;}#sk-container-id-2 div.sk-estimator {font-family: monospace;background-color: #f0f8ff;border: 1px dotted black;border-radius: 0.25em;box-sizing: border-box;margin-bottom: 0.5em;}#sk-container-id-2 div.sk-estimator:hover {background-color: #d4ebff;}#sk-container-id-2 div.sk-parallel-item::after {content: \"\";width: 100%;border-bottom: 1px solid gray;flex-grow: 1;}#sk-container-id-2 div.sk-label:hover label.sk-toggleable__label {background-color: #d4ebff;}#sk-container-id-2 div.sk-serial::before {content: \"\";position: absolute;border-left: 1px solid gray;box-sizing: border-box;top: 0;bottom: 0;left: 50%;z-index: 0;}#sk-container-id-2 div.sk-serial {display: flex;flex-direction: column;align-items: center;background-color: white;padding-right: 0.2em;padding-left: 0.2em;position: relative;}#sk-container-id-2 div.sk-item {position: relative;z-index: 1;}#sk-container-id-2 div.sk-parallel {display: flex;align-items: stretch;justify-content: center;background-color: white;position: relative;}#sk-container-id-2 div.sk-item::before, #sk-container-id-2 div.sk-parallel-item::before {content: \"\";position: absolute;border-left: 1px solid gray;box-sizing: border-box;top: 0;bottom: 0;left: 50%;z-index: -1;}#sk-container-id-2 div.sk-parallel-item {display: flex;flex-direction: column;z-index: 1;position: relative;background-color: white;}#sk-container-id-2 div.sk-parallel-item:first-child::after {align-self: flex-end;width: 50%;}#sk-container-id-2 div.sk-parallel-item:last-child::after {align-self: flex-start;width: 50%;}#sk-container-id-2 div.sk-parallel-item:only-child::after {width: 0;}#sk-container-id-2 div.sk-dashed-wrapped {border: 1px dashed gray;margin: 0 0.4em 0.5em 0.4em;box-sizing: border-box;padding-bottom: 0.4em;background-color: white;}#sk-container-id-2 div.sk-label label {font-family: monospace;font-weight: bold;display: inline-block;line-height: 1.2em;}#sk-container-id-2 div.sk-label-container {text-align: center;}#sk-container-id-2 div.sk-container {/* jupyter's `normalize.less` sets `[hidden] { display: none; }` but bootstrap.min.css set `[hidden] { display: none !important; }` so we also need the `!important` here to be able to override the default hidden behavior on the sphinx rendered scikit-learn.org. See: https://github.com/scikit-learn/scikit-learn/issues/21755 */display: inline-block !important;position: relative;}#sk-container-id-2 div.sk-text-repr-fallback {display: none;}</style><div id=\"sk-container-id-2\" class=\"sk-top-container\"><div class=\"sk-text-repr-fallback\"><pre>SVC(kernel=&#x27;linear&#x27;)</pre><b>In a Jupyter environment, please rerun this cell to show the HTML representation or trust the notebook. <br />On GitHub, the HTML representation is unable to render, please try loading this page with nbviewer.org.</b></div><div class=\"sk-container\" hidden><div class=\"sk-item\"><div class=\"sk-estimator sk-toggleable\"><input class=\"sk-toggleable__control sk-hidden--visually\" id=\"sk-estimator-id-2\" type=\"checkbox\" checked><label for=\"sk-estimator-id-2\" class=\"sk-toggleable__label sk-toggleable__label-arrow\">SVC</label><div class=\"sk-toggleable__content\"><pre>SVC(kernel=&#x27;linear&#x27;)</pre></div></div></div></div></div>"
      ],
      "text/plain": [
       "SVC(kernel='linear')"
      ]
     },
     "execution_count": 70,
     "metadata": {},
     "output_type": "execute_result"
    }
   ],
   "source": [
    "from sklearn.svm import SVC\n",
    "model = SVC(kernel=\"linear\")\n",
    "model.fit(X_train,y_train)"
   ]
  },
  {
   "cell_type": "code",
   "execution_count": 73,
   "id": "63557310",
   "metadata": {},
   "outputs": [],
   "source": [
    "pred = model.predict(X_test) # target_hat"
   ]
  },
  {
   "cell_type": "code",
   "execution_count": 77,
   "id": "9acff991",
   "metadata": {},
   "outputs": [
    {
     "name": "stdout",
     "output_type": "stream",
     "text": [
      "[1 0 2 1 1 0 1 2 1 1 2 0 0 0 0 1 2 1 1 2 0 2 0 2 2 2 2 2 0 0]\n",
      "[1 0 2 1 1 0 1 2 1 1 2 0 0 0 0 1 2 1 1 2 0 2 0 2 2 2 2 2 0 0]\n"
     ]
    }
   ],
   "source": [
    "print(pred)\n",
    "print(y_test)\n",
    "score = accuracy_score(pred,y_test)"
   ]
  },
  {
   "cell_type": "code",
   "execution_count": 79,
   "id": "9a6bdd14",
   "metadata": {},
   "outputs": [
    {
     "data": {
      "text/plain": [
       "100.0"
      ]
     },
     "execution_count": 79,
     "metadata": {},
     "output_type": "execute_result"
    }
   ],
   "source": [
    "score*100"
   ]
  },
  {
   "cell_type": "code",
   "execution_count": 84,
   "id": "db95d5ae",
   "metadata": {},
   "outputs": [
    {
     "name": "stdout",
     "output_type": "stream",
     "text": [
      "Accuracy (Logistic Regression): 0.956140350877193\n",
      "Confusion Matrix:  [[39  4]\n",
      " [ 1 70]]\n",
      "Predictions for cancer diagnosis (Malignant or Benign):\n",
      "['Benign', 'Malignant', 'Malignant', 'Benign', 'Benign', 'Malignant', 'Malignant', 'Malignant', 'Benign', 'Benign', 'Benign', 'Malignant', 'Benign', 'Malignant', 'Benign', 'Malignant', 'Benign', 'Benign', 'Benign', 'Malignant', 'Benign', 'Benign', 'Malignant', 'Benign', 'Benign', 'Benign', 'Benign', 'Benign', 'Benign', 'Malignant', 'Benign', 'Benign', 'Benign', 'Benign', 'Benign', 'Benign', 'Malignant', 'Benign', 'Malignant', 'Benign', 'Benign', 'Malignant', 'Benign', 'Benign', 'Benign', 'Benign', 'Benign', 'Benign', 'Benign', 'Benign', 'Malignant', 'Malignant', 'Benign', 'Benign', 'Benign', 'Benign', 'Benign', 'Malignant', 'Benign', 'Benign', 'Benign', 'Malignant', 'Malignant', 'Benign', 'Benign', 'Benign', 'Malignant', 'Malignant', 'Benign', 'Benign', 'Malignant', 'Malignant', 'Benign', 'Malignant', 'Benign', 'Benign', 'Benign', 'Benign', 'Benign', 'Benign', 'Malignant', 'Benign', 'Benign', 'Malignant', 'Malignant', 'Malignant', 'Malignant', 'Malignant', 'Benign', 'Benign', 'Benign', 'Benign', 'Benign', 'Benign', 'Benign', 'Benign', 'Malignant', 'Malignant', 'Benign', 'Malignant', 'Malignant', 'Benign', 'Malignant', 'Malignant', 'Benign', 'Benign', 'Benign', 'Malignant', 'Benign', 'Benign', 'Malignant', 'Benign', 'Malignant', 'Malignant']\n"
     ]
    }
   ],
   "source": [
    "from sklearn.linear_model import LogisticRegression\n",
    "from sklearn.datasets import load_breast_cancer\n",
    "from sklearn.model_selection import train_test_split\n",
    "from sklearn.metrics import accuracy_score,confusion_matrix\n",
    "\n",
    "cancer = load_breast_cancer()\n",
    "X,y = cancer.data,cancer.target\n",
    "X_train,X_test,y_train,y_test = train_test_split(X,y,test_size=0.2,random_state=42)\n",
    "model = LogisticRegression(max_iter=10000)\n",
    "model.fit(X_train,y_train)\n",
    "y_pred = model.predict(X_test)\n",
    "labels={0:'Malignant',1:'Benign'}\n",
    "y_labels= []\n",
    "for i in y_pred:\n",
    "    y_labels.append(labels[i])\n",
    "accuracy = accuracy_score(y_test,y_pred)\n",
    "conf = confusion_matrix(y_test,y_pred)\n",
    "print(\"Accuracy (Logistic Regression):\",accuracy)\n",
    "print(\"Confusion Matrix: \",conf)\n",
    "print(\"Predictions for cancer diagnosis (Malignant or Benign):\")\n",
    "print(y_labels)"
   ]
  },
  {
   "cell_type": "code",
   "execution_count": 85,
   "id": "0e3dd20f",
   "metadata": {},
   "outputs": [
    {
     "name": "stdout",
     "output_type": "stream",
     "text": [
      "Mean Squared Error (MSE): 0.5558915986952422\n",
      "Mean Absolute Error (MAE): 0.5332001304956998\n"
     ]
    }
   ],
   "source": [
    "#Sir The boston dataset has been removed from the scikit learn\n",
    "#library so i am using california dataset\n",
    "from sklearn.linear_model import LinearRegression\n",
    "from sklearn.datasets import fetch_california_housing\n",
    "from sklearn.metrics import mean_absolute_error,mean_squared_error\n",
    "\n",
    "california = fetch_california_housing()\n",
    "X,y = california.data,california.target\n",
    "X_train,X_test,y_train,y_test = train_test_split(X,y,test_size=0.2,random_state=42)\n",
    "model = LinearRegression()\n",
    "model.fit(X_train,y_train)\n",
    "y_pred = model.predict(X_test)\n",
    "mse = mean_squared_error(y_test,y_pred)\n",
    "mae = mean_absolute_error(y_test,y_pred)\n",
    "print(\"Mean Squared Error (MSE):\",mse)\n",
    "print(\"Mean Absolute Error (MAE):\",mae)"
   ]
  },
  {
   "cell_type": "code",
   "execution_count": 86,
   "id": "3968f9b8",
   "metadata": {},
   "outputs": [
    {
     "name": "stderr",
     "output_type": "stream",
     "text": [
      "C:\\ProgramData\\anaconda3\\Lib\\site-packages\\sklearn\\cluster\\_kmeans.py:1412: FutureWarning: The default value of `n_init` will change from 10 to 'auto' in 1.4. Set the value of `n_init` explicitly to suppress the warning\n",
      "  super()._check_params_vs_input(X, default_n_init=10)\n",
      "C:\\ProgramData\\anaconda3\\Lib\\site-packages\\sklearn\\cluster\\_kmeans.py:1436: UserWarning: KMeans is known to have a memory leak on Windows with MKL, when there are less chunks than available threads. You can avoid it by setting the environment variable OMP_NUM_THREADS=1.\n",
      "  warnings.warn(\n"
     ]
    },
    {
     "data": {
      "image/png": "[encoded data removed]",
      "text/plain": [
       "<Figure size 1000x1000 with 1 Axes>"
      ]
     },
     "metadata": {},
     "output_type": "display_data"
    }
   ],
   "source": [
    "from sklearn.datasets import load_iris\n",
    "import numpy as np\n",
    "import matplotlib.pyplot as plt\n",
    "from sklearn.cluster import KMeans\n",
    "from sklearn.decomposition import PCA\n",
    "\n",
    "iris = load_iris()\n",
    "X,y=iris.data,iris.target\n",
    "\n",
    "kmeans = KMeans(n_clusters=3,random_state=42)\n",
    "kmeans.fit(X)\n",
    "\n",
    "y_pred = kmeans.predict(X)\n",
    "\n",
    "#I am converting data to 2D by using PCA for visualization\n",
    "pca = PCA(n_components=2)\n",
    "Ypca = pca.fit_transform(X)\n",
    "\n",
    "plt.figure(figsize=(10,10))\n",
    "plt.scatter(Ypca[:,0],Ypca[:,1],c=y_pred,cmap='plasma',alpha=0.6,label=\"Clustered Data\")\n",
    "plt.scatter(kmeans.cluster_centers_[:, 0],kmeans.cluster_centers_[:, 1],s=200,c='blue',marker='*',label='Centroids')\n",
    "plt.xlabel('PC1')\n",
    "plt.ylabel('PC2')\n",
    "plt.title('K-means Clustering of Iris Dataset (2D PCA)')\n",
    "plt.legend()\n",
    "plt.show()"
   ]
  },
  {
   "cell_type": "code",
   "execution_count": 87,
   "id": "066cf62a",
   "metadata": {},
   "outputs": [
    {
     "data": {
      "image/png": "[encoded data removed]",
      "text/plain": [
       "<Figure size 640x480 with 1 Axes>"
      ]
     },
     "metadata": {},
     "output_type": "display_data"
    }
   ],
   "source": [
    "from sklearn.datasets import load_wine\n",
    "wine = load_wine()\n",
    "X,y = wine.data,wine.target\n",
    "pca = PCA(n_components=2)\n",
    "X_pca = pca.fit_transform(X)\n",
    "plt.scatter(X_pca[:, 0], X_pca[:, 1], c=y, cmap='plasma')\n",
    "plt.title(\"PCA Visualization of Wine Dataset\")\n",
    "plt.xlabel(\"PC1\")\n",
    "plt.ylabel(\"PC2\")\n",
    "plt.show()"
   ]
  },
  {
   "cell_type": "code",
   "execution_count": null,
   "id": "09ee1f90",
   "metadata": {},
   "outputs": [],
   "source": []
  }
 ],
 "metadata": {
  "kernelspec": {
   "display_name": "Python 3 (ipykernel)",
   "language": "python",
   "name": "python3"
  },
  "language_info": {
   "codemirror_mode": {
    "name": "ipython",
    "version": 3
   },
   "file_extension": ".py",
   "mimetype": "text/x-python",
   "name": "python",
   "nbconvert_exporter": "python",
   "pygments_lexer": "ipython3",
   "version": "3.11.5"
  }
 },
 "nbformat": 4,
 "nbformat_minor": 5
}
